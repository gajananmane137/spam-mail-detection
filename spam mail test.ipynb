{
 "cells": [
  {
   "cell_type": "code",
   "execution_count": 1,
   "id": "77cf51c7",
   "metadata": {},
   "outputs": [],
   "source": [
    "import pickle\n",
    "import numpy as np\n"
   ]
  },
  {
   "cell_type": "code",
   "execution_count": 3,
   "id": "2265a84a",
   "metadata": {},
   "outputs": [
    {
     "data": {
      "text/plain": [
       "<gensim.models.word2vec.Word2Vec at 0x1f72b220af0>"
      ]
     },
     "execution_count": 3,
     "metadata": {},
     "output_type": "execute_result"
    }
   ],
   "source": [
    "# load word2vec model\n",
    "with open(\"word2vec_model.pkl\",\"rb\") as f:\n",
    "    word2vec_model=pickle.load(f)\n",
    "word2vec_model"
   ]
  },
  {
   "cell_type": "code",
   "execution_count": 4,
   "id": "9dfcf1dc",
   "metadata": {},
   "outputs": [
    {
     "data": {
      "text/html": [
       "<style>#sk-container-id-1 {color: black;background-color: white;}#sk-container-id-1 pre{padding: 0;}#sk-container-id-1 div.sk-toggleable {background-color: white;}#sk-container-id-1 label.sk-toggleable__label {cursor: pointer;display: block;width: 100%;margin-bottom: 0;padding: 0.3em;box-sizing: border-box;text-align: center;}#sk-container-id-1 label.sk-toggleable__label-arrow:before {content: \"▸\";float: left;margin-right: 0.25em;color: #696969;}#sk-container-id-1 label.sk-toggleable__label-arrow:hover:before {color: black;}#sk-container-id-1 div.sk-estimator:hover label.sk-toggleable__label-arrow:before {color: black;}#sk-container-id-1 div.sk-toggleable__content {max-height: 0;max-width: 0;overflow: hidden;text-align: left;background-color: #f0f8ff;}#sk-container-id-1 div.sk-toggleable__content pre {margin: 0.2em;color: black;border-radius: 0.25em;background-color: #f0f8ff;}#sk-container-id-1 input.sk-toggleable__control:checked~div.sk-toggleable__content {max-height: 200px;max-width: 100%;overflow: auto;}#sk-container-id-1 input.sk-toggleable__control:checked~label.sk-toggleable__label-arrow:before {content: \"▾\";}#sk-container-id-1 div.sk-estimator input.sk-toggleable__control:checked~label.sk-toggleable__label {background-color: #d4ebff;}#sk-container-id-1 div.sk-label input.sk-toggleable__control:checked~label.sk-toggleable__label {background-color: #d4ebff;}#sk-container-id-1 input.sk-hidden--visually {border: 0;clip: rect(1px 1px 1px 1px);clip: rect(1px, 1px, 1px, 1px);height: 1px;margin: -1px;overflow: hidden;padding: 0;position: absolute;width: 1px;}#sk-container-id-1 div.sk-estimator {font-family: monospace;background-color: #f0f8ff;border: 1px dotted black;border-radius: 0.25em;box-sizing: border-box;margin-bottom: 0.5em;}#sk-container-id-1 div.sk-estimator:hover {background-color: #d4ebff;}#sk-container-id-1 div.sk-parallel-item::after {content: \"\";width: 100%;border-bottom: 1px solid gray;flex-grow: 1;}#sk-container-id-1 div.sk-label:hover label.sk-toggleable__label {background-color: #d4ebff;}#sk-container-id-1 div.sk-serial::before {content: \"\";position: absolute;border-left: 1px solid gray;box-sizing: border-box;top: 0;bottom: 0;left: 50%;z-index: 0;}#sk-container-id-1 div.sk-serial {display: flex;flex-direction: column;align-items: center;background-color: white;padding-right: 0.2em;padding-left: 0.2em;position: relative;}#sk-container-id-1 div.sk-item {position: relative;z-index: 1;}#sk-container-id-1 div.sk-parallel {display: flex;align-items: stretch;justify-content: center;background-color: white;position: relative;}#sk-container-id-1 div.sk-item::before, #sk-container-id-1 div.sk-parallel-item::before {content: \"\";position: absolute;border-left: 1px solid gray;box-sizing: border-box;top: 0;bottom: 0;left: 50%;z-index: -1;}#sk-container-id-1 div.sk-parallel-item {display: flex;flex-direction: column;z-index: 1;position: relative;background-color: white;}#sk-container-id-1 div.sk-parallel-item:first-child::after {align-self: flex-end;width: 50%;}#sk-container-id-1 div.sk-parallel-item:last-child::after {align-self: flex-start;width: 50%;}#sk-container-id-1 div.sk-parallel-item:only-child::after {width: 0;}#sk-container-id-1 div.sk-dashed-wrapped {border: 1px dashed gray;margin: 0 0.4em 0.5em 0.4em;box-sizing: border-box;padding-bottom: 0.4em;background-color: white;}#sk-container-id-1 div.sk-label label {font-family: monospace;font-weight: bold;display: inline-block;line-height: 1.2em;}#sk-container-id-1 div.sk-label-container {text-align: center;}#sk-container-id-1 div.sk-container {/* jupyter's `normalize.less` sets `[hidden] { display: none; }` but bootstrap.min.css set `[hidden] { display: none !important; }` so we also need the `!important` here to be able to override the default hidden behavior on the sphinx rendered scikit-learn.org. See: https://github.com/scikit-learn/scikit-learn/issues/21755 */display: inline-block !important;position: relative;}#sk-container-id-1 div.sk-text-repr-fallback {display: none;}</style><div id=\"sk-container-id-1\" class=\"sk-top-container\"><div class=\"sk-text-repr-fallback\"><pre>SVC()</pre><b>In a Jupyter environment, please rerun this cell to show the HTML representation or trust the notebook. <br />On GitHub, the HTML representation is unable to render, please try loading this page with nbviewer.org.</b></div><div class=\"sk-container\" hidden><div class=\"sk-item\"><div class=\"sk-estimator sk-toggleable\"><input class=\"sk-toggleable__control sk-hidden--visually\" id=\"sk-estimator-id-1\" type=\"checkbox\" checked><label for=\"sk-estimator-id-1\" class=\"sk-toggleable__label sk-toggleable__label-arrow\">SVC</label><div class=\"sk-toggleable__content\"><pre>SVC()</pre></div></div></div></div></div>"
      ],
      "text/plain": [
       "SVC()"
      ]
     },
     "execution_count": 4,
     "metadata": {},
     "output_type": "execute_result"
    }
   ],
   "source": [
    "# load svm classifier model\n",
    "with open(\"svm_model.pkl\",\"rb\") as f:\n",
    "    svm_clf=pickle.load(f)\n",
    "svm_clf"
   ]
  },
  {
   "cell_type": "code",
   "execution_count": 5,
   "id": "2ea90dea",
   "metadata": {},
   "outputs": [],
   "source": [
    "test_data=\"\"\"ecurity alert on microsoft internet explorer\n",
    "\n",
    "dear suntrust bank customer ,\n",
    "\n",
    "to provide our customers the most effective and secure online access\n",
    "\n",
    "to their accounts , we are continually upgrading our online services . as\n",
    "\n",
    "we add new features and enhancements to our service , there are certain\n",
    "\n",
    "browser versions , which will not support these system upgrades . as many\n",
    "\n",
    "customers already know , microsoft internet explorer has significant ' holes '\n",
    "\n",
    "or vulnerabilities that virus creators can easily take advantage of .\n",
    "\n",
    "in order to further protect\n",
    "\n",
    "your account , we have introduced some new important security standards\n",
    "\n",
    "and browser requirements . suntrust security systems require that you test\n",
    "\n",
    "your browser now to see if it meets the requirements for suntrust internet\n",
    "\n",
    "banking .\n",
    "\n",
    "please sign\n",
    "\n",
    "on to internet banking in order to verify security update installation .\n",
    "\n",
    "this security update will be effective immediately . in the meantime , some\n",
    "\n",
    "of the internet banking services may not be available .\n",
    "\n",
    "suntrust internet banking\n",
    "\n",
    "copyright  2004 suntrust\n",
    "\"\"\""
   ]
  },
  {
   "cell_type": "code",
   "execution_count": 11,
   "id": "bf28a045",
   "metadata": {},
   "outputs": [
    {
     "data": {
      "text/plain": [
       "[['ecurity',\n",
       "  'alert',\n",
       "  'on',\n",
       "  'microsoft',\n",
       "  'internet',\n",
       "  'explorer',\n",
       "  'dear',\n",
       "  'suntrust',\n",
       "  'bank',\n",
       "  'customer',\n",
       "  ',',\n",
       "  'to',\n",
       "  'provide',\n",
       "  'our',\n",
       "  'customers',\n",
       "  'the',\n",
       "  'most',\n",
       "  'effective',\n",
       "  'and',\n",
       "  'secure',\n",
       "  'online',\n",
       "  'access',\n",
       "  'to',\n",
       "  'their',\n",
       "  'accounts',\n",
       "  ',',\n",
       "  'we',\n",
       "  'are',\n",
       "  'continually',\n",
       "  'upgrading',\n",
       "  'our',\n",
       "  'online',\n",
       "  'services',\n",
       "  '.',\n",
       "  'as',\n",
       "  'we',\n",
       "  'add',\n",
       "  'new',\n",
       "  'features',\n",
       "  'and',\n",
       "  'enhancements',\n",
       "  'to',\n",
       "  'our',\n",
       "  'service',\n",
       "  ',',\n",
       "  'there',\n",
       "  'are',\n",
       "  'certain',\n",
       "  'browser',\n",
       "  'versions',\n",
       "  ',',\n",
       "  'which',\n",
       "  'will',\n",
       "  'not',\n",
       "  'support',\n",
       "  'these',\n",
       "  'system',\n",
       "  'upgrades',\n",
       "  '.',\n",
       "  'as',\n",
       "  'many',\n",
       "  'customers',\n",
       "  'already',\n",
       "  'know',\n",
       "  ',',\n",
       "  'microsoft',\n",
       "  'internet',\n",
       "  'explorer',\n",
       "  'has',\n",
       "  'significant',\n",
       "  \"'\",\n",
       "  'holes',\n",
       "  \"'\",\n",
       "  'or',\n",
       "  'vulnerabilities',\n",
       "  'that',\n",
       "  'virus',\n",
       "  'creators',\n",
       "  'can',\n",
       "  'easily',\n",
       "  'take',\n",
       "  'advantage',\n",
       "  'of',\n",
       "  '.',\n",
       "  'in',\n",
       "  'order',\n",
       "  'to',\n",
       "  'further',\n",
       "  'protect',\n",
       "  'your',\n",
       "  'account',\n",
       "  ',',\n",
       "  'we',\n",
       "  'have',\n",
       "  'introduced',\n",
       "  'some',\n",
       "  'new',\n",
       "  'important',\n",
       "  'security',\n",
       "  'standards',\n",
       "  'and',\n",
       "  'browser',\n",
       "  'requirements',\n",
       "  '.',\n",
       "  'suntrust',\n",
       "  'security',\n",
       "  'systems',\n",
       "  'require',\n",
       "  'that',\n",
       "  'you',\n",
       "  'test',\n",
       "  'your',\n",
       "  'browser',\n",
       "  'now',\n",
       "  'to',\n",
       "  'see',\n",
       "  'if',\n",
       "  'it',\n",
       "  'meets',\n",
       "  'the',\n",
       "  'requirements',\n",
       "  'for',\n",
       "  'suntrust',\n",
       "  'internet',\n",
       "  'banking',\n",
       "  '.',\n",
       "  'please',\n",
       "  'sign',\n",
       "  'on',\n",
       "  'to',\n",
       "  'internet',\n",
       "  'banking',\n",
       "  'in',\n",
       "  'order',\n",
       "  'to',\n",
       "  'verify',\n",
       "  'security',\n",
       "  'update',\n",
       "  'installation',\n",
       "  '.',\n",
       "  'this',\n",
       "  'security',\n",
       "  'update',\n",
       "  'will',\n",
       "  'be',\n",
       "  'effective',\n",
       "  'immediately',\n",
       "  '.',\n",
       "  'in',\n",
       "  'the',\n",
       "  'meantime',\n",
       "  ',',\n",
       "  'some',\n",
       "  'of',\n",
       "  'the',\n",
       "  'internet',\n",
       "  'banking',\n",
       "  'services',\n",
       "  'may',\n",
       "  'not',\n",
       "  'be',\n",
       "  'available',\n",
       "  '.',\n",
       "  'suntrust',\n",
       "  'internet',\n",
       "  'banking',\n",
       "  'copyright',\n",
       "  '2004',\n",
       "  'suntrust']]"
      ]
     },
     "execution_count": 11,
     "metadata": {},
     "output_type": "execute_result"
    }
   ],
   "source": [
    "\n",
    "spliitted_test=[test_data.split()]\n",
    "spliitted_test"
   ]
  },
  {
   "cell_type": "code",
   "execution_count": null,
   "id": "bd49bb1f",
   "metadata": {},
   "outputs": [],
   "source": []
  },
  {
   "cell_type": "code",
   "execution_count": 12,
   "id": "09e23ea0",
   "metadata": {},
   "outputs": [],
   "source": [
    "#Document Nemerical Format\n",
    "# create neumerical data of document\n",
    "def vectorizer(list_of_docs,model):\n",
    "    feature=[]\n",
    "    for rew in list_of_docs:\n",
    "        zero_vector=np.zeros(model.vector_size)\n",
    "        vectors=[]\n",
    "        for word in rew:\n",
    "            try:\n",
    "                word in model.wv\n",
    "                vectors.append(model.wv[word])\n",
    "            except KeyError:\n",
    "                continue\n",
    "        if vectors:\n",
    "            vector1=np.asarray(vectors)\n",
    "            avg_vec=vector1.mean(axis=0)\n",
    "            feature.append(avg_vec)\n",
    "        else:\n",
    "            feature.append(zero_vector)\n",
    "    return feature"
   ]
  },
  {
   "cell_type": "code",
   "execution_count": 14,
   "id": "c4f22378",
   "metadata": {},
   "outputs": [
    {
     "data": {
      "text/plain": [
       "100"
      ]
     },
     "execution_count": 14,
     "metadata": {},
     "output_type": "execute_result"
    }
   ],
   "source": [
    "vectorized_docs=vectorizer(spliitted_test,word2vec_model)\n",
    "len(vectorized_docs[0])"
   ]
  },
  {
   "cell_type": "code",
   "execution_count": 16,
   "id": "68cae58c",
   "metadata": {},
   "outputs": [
    {
     "data": {
      "text/plain": [
       "array([[ 8.48264396e-02,  2.50926048e-01, -1.09614611e-01,\n",
       "        -4.85854922e-03,  4.04806482e-03, -4.42107409e-01,\n",
       "        -8.40163007e-02,  4.88697529e-01, -2.04116464e-01,\n",
       "        -1.44856885e-01, -1.03977025e-01, -2.41428122e-01,\n",
       "        -3.57005037e-02,  1.54769316e-01,  1.75212011e-01,\n",
       "        -3.31612825e-01, -1.35116810e-02, -3.21923226e-01,\n",
       "         5.52312844e-02, -4.66630965e-01,  1.76850781e-01,\n",
       "         1.24173425e-01,  2.73348272e-01, -7.55393282e-02,\n",
       "        -1.49452895e-01, -2.72427052e-02, -2.57273138e-01,\n",
       "        -1.60286516e-01, -2.41491362e-01,  1.11899540e-01,\n",
       "         4.29321021e-01,  6.03202768e-02,  9.69810262e-02,\n",
       "        -3.21092665e-01, -5.19922562e-02,  4.09563571e-01,\n",
       "        -2.62182727e-02, -9.09726843e-02, -1.89223930e-01,\n",
       "        -5.59908152e-01,  4.58143093e-02, -3.33523542e-01,\n",
       "         1.10953078e-02,  5.13388216e-02,  3.72883022e-01,\n",
       "        -1.33649364e-01, -2.59091705e-01, -3.23730186e-02,\n",
       "         8.54417756e-02,  1.15883790e-01,  2.52410859e-01,\n",
       "        -3.84261519e-01, -1.52658327e-02, -1.63490965e-03,\n",
       "        -2.69334465e-01,  1.69662610e-01,  1.82526559e-01,\n",
       "        -1.59934610e-02, -3.05509061e-01,  9.65564698e-02,\n",
       "         3.14147025e-01,  1.03083141e-01, -5.49241714e-02,\n",
       "         8.30508216e-05, -1.28723264e-01,  2.94126570e-01,\n",
       "         6.19623922e-02,  1.47308439e-01, -2.91599542e-01,\n",
       "         2.52595097e-01, -3.02378386e-01,  1.84644654e-01,\n",
       "         2.87833989e-01,  3.43073793e-02,  2.74037838e-01,\n",
       "         4.79592383e-02, -1.49655670e-01,  9.35988221e-03,\n",
       "        -2.93832179e-02,  4.54293843e-03, -1.89531624e-01,\n",
       "        -2.07882658e-01, -4.16556567e-01,  3.15372646e-01,\n",
       "         1.11759477e-03,  2.41491962e-02,  2.40144417e-01,\n",
       "         3.17082673e-01,  3.45571131e-01,  1.73027948e-01,\n",
       "         4.51023489e-01,  4.44826595e-02, -2.67547052e-02,\n",
       "        -1.48395933e-02,  4.19059187e-01,  2.40248829e-01,\n",
       "         2.85780191e-01, -4.39056635e-01,  6.21994585e-02,\n",
       "         4.60158736e-02]], dtype=float32)"
      ]
     },
     "execution_count": 16,
     "metadata": {},
     "output_type": "execute_result"
    }
   ],
   "source": [
    "word2vec_doc=np.array(vectorized_docs)\n",
    "word2vec_doc"
   ]
  },
  {
   "cell_type": "code",
   "execution_count": 19,
   "id": "62396644",
   "metadata": {},
   "outputs": [
    {
     "name": "stdout",
     "output_type": "stream",
     "text": [
      "Given Mail is ham\n"
     ]
    }
   ],
   "source": [
    "#testing\n",
    "y_pred=svm_clf.predict(word2vec_doc)\n",
    "if y_pred[0]==0:\n",
    "    print(\"Given Mail is spam\")\n",
    "else:\n",
    "    print(\"Given Mail is ham\")"
   ]
  }
 ],
 "metadata": {
  "kernelspec": {
   "display_name": "Python 3 (ipykernel)",
   "language": "python",
   "name": "python3"
  },
  "language_info": {
   "codemirror_mode": {
    "name": "ipython",
    "version": 3
   },
   "file_extension": ".py",
   "mimetype": "text/x-python",
   "name": "python",
   "nbconvert_exporter": "python",
   "pygments_lexer": "ipython3",
   "version": "3.10.7"
  }
 },
 "nbformat": 4,
 "nbformat_minor": 5
}
